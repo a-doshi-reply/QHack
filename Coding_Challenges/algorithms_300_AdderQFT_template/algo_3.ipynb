{
 "cells": [
  {
   "cell_type": "code",
   "execution_count": 456,
   "id": "ff3eb170",
   "metadata": {},
   "outputs": [],
   "source": [
    "\n",
    "import sys\n",
    "from pennylane import numpy as np\n",
    "import pennylane as qml\n",
    "\n",
    "\n",
    "def qfunc_adder(m, wires):\n",
    "    \"\"\"Quantum function capable of adding m units to a basic state given as input.\n",
    "\n",
    "    Args:\n",
    "        - m (int): units to add.\n",
    "        - wires (list(int)): list of wires in which the function will be executed on.\n",
    "    \"\"\"\n",
    "    qml.QFT(wires=wires)\n",
    "    # QHACK #\n",
    "    \n",
    "    n=wires[-1]+1\n",
    "    rot=m*np.pi\n",
    "    for i in wires:\n",
    "        qml.RZ(rot/(2**i),wires=i)\n",
    "\n",
    "    # QHACK #\n",
    "\n",
    "    qml.QFT(wires=wires).inv()\n",
    "\n",
    "\n",
    "def run(file_name):\n",
    "    inputs = open(file_name,'r').read().split(\",\")\n",
    "    m = int(inputs[0])\n",
    "    n_wires = int(inputs[1])\n",
    "    wires = range(n_wires)\n",
    "    dev = qml.device(\"default.qubit\", wires=wires, shots=1)\n",
    "    \n",
    "    @qml.qnode(dev)\n",
    "    def test_circuit():\n",
    "        # Input:  |2^{N-1}>\n",
    "        qml.PauliX(wires=0)\n",
    "\n",
    "        qfunc_adder(m, wires)\n",
    "        return qml.sample()\n",
    "    drawer=qml.draw(test_circuit)\n",
    "    print(drawer())\n",
    "    output = test_circuit()\n",
    "    print(*output, sep=\",\")\n"
   ]
  },
  {
   "cell_type": "code",
   "execution_count": 467,
   "id": "5837ef5e",
   "metadata": {},
   "outputs": [
    {
     "name": "stdout",
     "output_type": "stream",
     "text": [
      "15.707963267948966\n",
      " 0: ──X──╭QFT──RZ(15.7)──╭QFT⁻¹──╭┤ Sample[basis] \n",
      " 1: ─────├QFT──RZ(7.85)──├QFT⁻¹──├┤ Sample[basis] \n",
      " 2: ─────├QFT──RZ(3.93)──├QFT⁻¹──├┤ Sample[basis] \n",
      " 3: ─────╰QFT──RZ(1.96)──╰QFT⁻¹──╰┤ Sample[basis] \n",
      "\n",
      "15.707963267948966\n",
      "1,1,0,1\n"
     ]
    }
   ],
   "source": [
    "run('2.in')"
   ]
  },
  {
   "cell_type": "code",
   "execution_count": 409,
   "id": "7867206f",
   "metadata": {},
   "outputs": [
    {
     "data": {
      "text/plain": [
       "1"
      ]
     },
     "execution_count": 409,
     "metadata": {},
     "output_type": "execute_result"
    }
   ],
   "source": [
    "list(range(2))[-1]"
   ]
  },
  {
   "cell_type": "code",
   "execution_count": 210,
   "id": "52c089bf",
   "metadata": {},
   "outputs": [
    {
     "data": {
      "text/plain": [
       "'/home/ec2-user/SageMaker/QHack/QHack/Coding_Challenges/algorithms_300_AdderQFT_template'"
      ]
     },
     "execution_count": 210,
     "metadata": {},
     "output_type": "execute_result"
    }
   ],
   "source": [
    "pwd"
   ]
  },
  {
   "cell_type": "code",
   "execution_count": null,
   "id": "656c3a4f",
   "metadata": {},
   "outputs": [],
   "source": []
  }
 ],
 "metadata": {
  "kernelspec": {
   "display_name": "conda_braket",
   "language": "python",
   "name": "conda_braket"
  },
  "language_info": {
   "codemirror_mode": {
    "name": "ipython",
    "version": 3
   },
   "file_extension": ".py",
   "mimetype": "text/x-python",
   "name": "python",
   "nbconvert_exporter": "python",
   "pygments_lexer": "ipython3",
   "version": "3.7.11"
  }
 },
 "nbformat": 4,
 "nbformat_minor": 5
}
