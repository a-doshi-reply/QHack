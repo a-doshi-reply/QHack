{
 "cells": [
  {
   "cell_type": "code",
   "execution_count": 108,
   "id": "99f456cb",
   "metadata": {},
   "outputs": [],
   "source": [
    "\n",
    "import sys\n",
    "from pennylane import numpy as np\n",
    "import pennylane as qml\n",
    "\n",
    "graph = {\n",
    "    0: [1],\n",
    "    1: [0, 2, 3, 4],\n",
    "    2: [1],\n",
    "    3: [1],\n",
    "    4: [1, 5, 7, 8],\n",
    "    5: [4, 6],\n",
    "    6: [5, 7],\n",
    "    7: [4, 6],\n",
    "    8: [4],\n",
    "}\n",
    "\n",
    "\n",
    "def n_swaps(cnot):\n",
    "    \"\"\"Count the minimum number of swaps needed to create the equivalent CNOT.\n",
    "\n",
    "    Args:\n",
    "        - cnot (qml.Operation): A CNOT gate that needs to be implemented on the hardware\n",
    "        You can find out the wires on which an operator works by asking for the 'wires' attribute: 'cnot.wires'\n",
    "\n",
    "    Returns:\n",
    "        - (int): minimum number of swaps\n",
    "    \"\"\"\n",
    "\n",
    "    # QHACK #\n",
    "    wires=list(cnot.wires)\n",
    "    start_node=wires[0]\n",
    "    end_node=wires[1]\n",
    "    found=False\n",
    "    checked_nodes=set([start_node])\n",
    "    working_nodes=set(graph[start_node])\n",
    "    i=1\n",
    "    \n",
    "    if(end_node in working_nodes):\n",
    "        return(0)\n",
    "    \n",
    "    while found==False:\n",
    "        new_nodes=set()\n",
    "        print(i)\n",
    "        for node in working_nodes:\n",
    "            new_nodes.update(set(graph[node]))\n",
    "        checked_nodes.update(working_nodes)\n",
    "        \n",
    "        new_nodes=new_nodes.difference(checked_nodes)\n",
    "        print(new_nodes)\n",
    "        print(checked_nodes)\n",
    "        \n",
    "        \n",
    "        if(end_node in new_nodes):\n",
    "            found=True\n",
    "        else:\n",
    "            i+=1\n",
    "            working_nodes=new_nodes\n",
    "    return(i*2)\n",
    "            \n",
    "        \n",
    "    # QHACK #\n",
    "\n",
    "\n",
    "def run(file_name):\n",
    "    inputs = open(file_name,'r').read().split(\",\")\n",
    "    output = n_swaps(qml.CNOT(wires=[int(i) for i in inputs]))\n",
    "    print(f\"{output}\")\n"
   ]
  },
  {
   "cell_type": "code",
   "execution_count": 109,
   "id": "0de3b96e",
   "metadata": {},
   "outputs": [
    {
     "name": "stdout",
     "output_type": "stream",
     "text": [
      "1\n",
      "{1, 5, 7}\n",
      "{8, 4}\n",
      "2\n",
      "{0, 2, 3, 6}\n",
      "{1, 4, 5, 7, 8}\n",
      "4\n"
     ]
    }
   ],
   "source": [
    "run('2.in')"
   ]
  },
  {
   "cell_type": "code",
   "execution_count": 91,
   "id": "011face9",
   "metadata": {},
   "outputs": [],
   "source": [
    "new_nodes=set()\n"
   ]
  },
  {
   "cell_type": "code",
   "execution_count": 33,
   "id": "bcdb0afe",
   "metadata": {},
   "outputs": [],
   "source": [
    "new_nodes.add(5)"
   ]
  },
  {
   "cell_type": "code",
   "execution_count": 48,
   "id": "c81ba3f8",
   "metadata": {},
   "outputs": [
    {
     "ename": "TypeError",
     "evalue": "set expected at most 1 arguments, got 2",
     "output_type": "error",
     "traceback": [
      "\u001b[0;31m---------------------------------------------------------------------------\u001b[0m",
      "\u001b[0;31mTypeError\u001b[0m                                 Traceback (most recent call last)",
      "\u001b[0;32m<ipython-input-48-37b3092a8e34>\u001b[0m in \u001b[0;36m<module>\u001b[0;34m\u001b[0m\n\u001b[0;32m----> 1\u001b[0;31m \u001b[0mx\u001b[0m\u001b[0;34m=\u001b[0m\u001b[0mset\u001b[0m\u001b[0;34m(\u001b[0m\u001b[0mnew_nodes\u001b[0m\u001b[0;34m,\u001b[0m\u001b[0;34m{\u001b[0m\u001b[0;36m2\u001b[0m\u001b[0;34m,\u001b[0m\u001b[0;36m3\u001b[0m\u001b[0;34m,\u001b[0m\u001b[0;36m4\u001b[0m\u001b[0;34m}\u001b[0m\u001b[0;34m)\u001b[0m\u001b[0;34m\u001b[0m\u001b[0;34m\u001b[0m\u001b[0m\n\u001b[0m",
      "\u001b[0;31mTypeError\u001b[0m: set expected at most 1 arguments, got 2"
     ]
    }
   ],
   "source": []
  },
  {
   "cell_type": "code",
   "execution_count": 47,
   "id": "817f3b8c",
   "metadata": {},
   "outputs": [
    {
     "name": "stdout",
     "output_type": "stream",
     "text": [
      "None\n"
     ]
    }
   ],
   "source": []
  },
  {
   "cell_type": "code",
   "execution_count": 37,
   "id": "2fb5ca59",
   "metadata": {},
   "outputs": [],
   "source": [
    "i+=1\n"
   ]
  },
  {
   "cell_type": "code",
   "execution_count": 60,
   "id": "93a21de1",
   "metadata": {},
   "outputs": [],
   "source": [
    "new_nodes.update(set([2,3,4,5,6,7]))"
   ]
  },
  {
   "cell_type": "code",
   "execution_count": 61,
   "id": "f29b79f0",
   "metadata": {},
   "outputs": [
    {
     "data": {
      "text/plain": [
       "{2, 3, 4, 5, 6, 7}"
      ]
     },
     "execution_count": 61,
     "metadata": {},
     "output_type": "execute_result"
    }
   ],
   "source": [
    "new_nodes"
   ]
  },
  {
   "cell_type": "code",
   "execution_count": 40,
   "id": "de8a9238",
   "metadata": {},
   "outputs": [
    {
     "data": {
      "text/plain": [
       "{5, 6, 7}"
      ]
     },
     "execution_count": 40,
     "metadata": {},
     "output_type": "execute_result"
    }
   ],
   "source": [
    "new_nodes.difference({2,3,4})"
   ]
  },
  {
   "cell_type": "code",
   "execution_count": 57,
   "id": "10b11834",
   "metadata": {},
   "outputs": [],
   "source": [
    "new_nodes=new_nodes.difference({1,2,3,8})"
   ]
  },
  {
   "cell_type": "code",
   "execution_count": 58,
   "id": "fa43f5be",
   "metadata": {},
   "outputs": [
    {
     "data": {
      "text/plain": [
       "{4, 5, 6, 7}"
      ]
     },
     "execution_count": 58,
     "metadata": {},
     "output_type": "execute_result"
    }
   ],
   "source": [
    "new_nodes"
   ]
  },
  {
   "cell_type": "code",
   "execution_count": null,
   "id": "176a4c0d",
   "metadata": {},
   "outputs": [],
   "source": []
  }
 ],
 "metadata": {
  "kernelspec": {
   "display_name": "conda_braket",
   "language": "python",
   "name": "conda_braket"
  },
  "language_info": {
   "codemirror_mode": {
    "name": "ipython",
    "version": 3
   },
   "file_extension": ".py",
   "mimetype": "text/x-python",
   "name": "python",
   "nbconvert_exporter": "python",
   "pygments_lexer": "ipython3",
   "version": "3.7.11"
  }
 },
 "nbformat": 4,
 "nbformat_minor": 5
}
