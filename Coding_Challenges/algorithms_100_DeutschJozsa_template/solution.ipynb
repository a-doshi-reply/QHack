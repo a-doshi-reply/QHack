{
 "cells": [
  {
   "cell_type": "code",
   "execution_count": 119,
   "id": "a1246b2a",
   "metadata": {},
   "outputs": [],
   "source": [
    "import sys\n",
    "import pennylane as qml\n",
    "from pennylane import numpy as np\n",
    "\n",
    "\n",
    "def deutsch_jozsa(oracle):\n",
    "    \"\"\"This function will determine whether an oracle defined by a function f is constant or balanced.\n",
    "\n",
    "    Args:\n",
    "        - oracle (function): Encoding of the f function as a quantum gate. The first two qubits refer to the input and the third to the output.\n",
    "\n",
    "    Returns:\n",
    "        - (str): \"constant\" or \"balanced\"\n",
    "    \"\"\"\n",
    "\n",
    "    dev = qml.device(\"default.qubit\", wires=3, shots=1)\n",
    "\n",
    "    @qml.qnode(dev)\n",
    "    def circuit():\n",
    "        \"\"\"Implements the Deutsch Jozsa algorithm.\"\"\"\n",
    "\n",
    "        # QHACK #\n",
    "        qml.Hadamard(0)\n",
    "        qml.Hadamard(1)\n",
    "        qml.PauliX(2)\n",
    "        qml.Hadamard(2)\n",
    "        # Insert any pre-oracle processing here\n",
    "        \n",
    "        oracle()  # DO NOT MODIFY this line\n",
    "\n",
    "        # Insert any post-oracle processing here\n",
    "        qml.Hadamard(0)\n",
    "        qml.Hadamard(1)\n",
    "        # QHACK #\n",
    "        \n",
    "        return qml.sample(wires=range(2))\n",
    "\n",
    "    sample = circuit()\n",
    "    \n",
    "    # QHACK #\n",
    "    # From `sample` (a single call to the circuit), determine whether the function is constant or balanced.\n",
    "    state='constant'\n",
    "    for i in sample:\n",
    "        if(i!=0):\n",
    "            state='balanced'\n",
    "    # QHACK #\n",
    "    return(state)\n",
    "\n",
    "def run(file_name):\n",
    "    inputs = open(file_name,'r').read().split(\",\")\n",
    "    numbers = [int(i) for i in inputs]\n",
    "\n",
    "    def oracle():\n",
    "        for i in numbers:\n",
    "            qml.CNOT(wires=[i, 2])\n",
    "\n",
    "    output = deutsch_jozsa(oracle)\n",
    "    print(output)\n"
   ]
  },
  {
   "cell_type": "code",
   "execution_count": 121,
   "id": "3775d5bb",
   "metadata": {},
   "outputs": [
    {
     "name": "stdout",
     "output_type": "stream",
     "text": [
      "constant\n"
     ]
    }
   ],
   "source": [
    "run('2.in')"
   ]
  },
  {
   "cell_type": "code",
   "execution_count": null,
   "id": "6963280b",
   "metadata": {},
   "outputs": [],
   "source": []
  },
  {
   "cell_type": "code",
   "execution_count": null,
   "id": "e125c3e2",
   "metadata": {},
   "outputs": [],
   "source": []
  }
 ],
 "metadata": {
  "kernelspec": {
   "display_name": "conda_braket",
   "language": "python",
   "name": "conda_braket"
  },
  "language_info": {
   "codemirror_mode": {
    "name": "ipython",
    "version": 3
   },
   "file_extension": ".py",
   "mimetype": "text/x-python",
   "name": "python",
   "nbconvert_exporter": "python",
   "pygments_lexer": "ipython3",
   "version": "3.7.11"
  }
 },
 "nbformat": 4,
 "nbformat_minor": 5
}
