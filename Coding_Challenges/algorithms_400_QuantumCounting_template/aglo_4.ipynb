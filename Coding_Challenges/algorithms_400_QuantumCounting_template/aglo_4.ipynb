{
 "cells": [
  {
   "cell_type": "code",
   "execution_count": 81,
   "id": "bc0bd248",
   "metadata": {},
   "outputs": [],
   "source": [
    "\n",
    "import sys\n",
    "import pennylane as qml\n",
    "from pennylane import numpy as np\n",
    "from pennylane.templates import QuantumPhaseEstimation\n",
    "\n",
    "\n",
    "dev = qml.device(\"default.qubit\", wires=8)\n",
    "\n",
    "def oracle_matrix(indices):\n",
    "    \"\"\"Return the oracle matrix for a secret combination.\n",
    "\n",
    "    Args:\n",
    "        - indices (list(int)): A list of bit indices (e.g. [0,3]) representing the elements that are map to 1.\n",
    "\n",
    "    Returns:\n",
    "        - (np.ndarray): The matrix representation of the oracle\n",
    "    \"\"\"\n",
    "\n",
    "    # QHACK #\n",
    "    a=np.identity(2**4)\n",
    "    for i in indices:\n",
    "        a[i,i]=-1\n",
    "    return(a)\n",
    "    # QHACK #\n",
    "\n",
    "    return my_array\n",
    "\n",
    "\n",
    "def diffusion_matrix():\n",
    "\n",
    "    # DO NOT MODIFY anything in this code block\n",
    "\n",
    "    psi_piece = (1 / 2 ** 4) * np.ones(2 ** 4)\n",
    "    ident_piece = np.eye(2 ** 4)\n",
    "    return 2 * psi_piece - ident_piece\n",
    "\n",
    "\n",
    "def grover_operator(indices):\n",
    "\n",
    "    # DO NOT MODIFY anything in this code block\n",
    "\n",
    "    return np.dot(diffusion_matrix(), oracle_matrix(indices))\n",
    "\n",
    "\n",
    "dev = qml.device(\"default.qubit\", wires=8)\n",
    "\n",
    "@qml.qnode(dev)\n",
    "def circuit(indices):\n",
    "    \"\"\"Return the probabilities of each basis state after applying QPE to the Grover operator\n",
    "\n",
    "    Args:\n",
    "        - indices (list(int)): A list of bits representing the elements that map to 1.\n",
    "\n",
    "    Returns:\n",
    "        - (np.tensor): Probabilities of measuring each computational basis state\n",
    "    \"\"\"\n",
    "\n",
    "    # QHACK #\n",
    "\n",
    "    target_wires =list(range(4))\n",
    "\n",
    "    estimation_wires =list(range(4,8))\n",
    "    \n",
    "#     for target in target_wires:\n",
    "#         #Prepares states in |+>\n",
    "#         qml.RX(np.pi,wires=target)\n",
    "        \n",
    "#     # Build your circuit here\n",
    "#     for est in estimation_wires:\n",
    "#         qml.Hadamard(wires=est)\n",
    "    for i in target_wires:\n",
    "        qml.Hadamard(wires=i)\n",
    "    unitary=grover_operator(indices)\n",
    "    QuantumPhaseEstimation(\n",
    "        unitary,\n",
    "        target_wires=target_wires,\n",
    "        estimation_wires=estimation_wires,\n",
    "    )\n",
    "    # QHACK #\n",
    "\n",
    "    return qml.probs(estimation_wires)\n",
    "\n",
    "def number_of_solutions(indices):\n",
    "    \"\"\"Implement the formula given in the problem statement to find the number of solutions from the output of your circuit\n",
    "\n",
    "    Args:\n",
    "        - indices (list(int)): A list of bits representing the elements that map to 1.\n",
    "\n",
    "    Returns:\n",
    "        - (float): number of elements as estimated by the quantum counting algorithm\n",
    "    \"\"\"\n",
    "\n",
    "    # QHACK #\n",
    "    probs=circuit(indices)\n",
    "    working_max=0\n",
    "    working_index=0\n",
    "    for i,j in enumerate(probs):\n",
    "        if(float(j)>working_max):\n",
    "            working_max=float(j)\n",
    "            working_index=i\n",
    "    theta=working_index\n",
    "    M=16*(np.sin(theta*np.pi/16))**2\n",
    "    return(M)\n",
    "    # QHACK #\n",
    "\n",
    "def relative_error(indices):\n",
    "    \"\"\"Calculate the relative error of the quantum counting estimation\n",
    "\n",
    "    Args:\n",
    "        - indices (list(int)): A list of bits representing the elements that map to 1.\n",
    "\n",
    "    Returns: \n",
    "        - (float): relative error\n",
    "    \"\"\"\n",
    "\n",
    "    # QHACK #\n",
    "    estimation=number_of_solutions(indices)\n",
    "    actual=float(len(indices))\n",
    "    rel_err = 100*(estimation-actual)/actual\n",
    "    # QHACK #\n",
    "\n",
    "    return rel_err\n",
    "\n",
    "def run(file_name):\n",
    "    inputs = open(file_name,'r').read().split(\",\")\n",
    "    lst=[int(i) for i in inputs]\n",
    "    output = relative_error(lst)\n",
    "    print(f\"{output}\")"
   ]
  },
  {
   "cell_type": "code",
   "execution_count": 82,
   "id": "7fe26d22",
   "metadata": {},
   "outputs": [
    {
     "name": "stdout",
     "output_type": "stream",
     "text": [
      "2.34314575050762 3.0\n",
      "-21.895141649746005\n"
     ]
    }
   ],
   "source": [
    "run('1.in')"
   ]
  },
  {
   "cell_type": "code",
   "execution_count": 83,
   "id": "34bad648",
   "metadata": {},
   "outputs": [],
   "source": [
    "drawer=qml.draw(circ)"
   ]
  },
  {
   "cell_type": "code",
   "execution_count": 84,
   "id": "91b821e2",
   "metadata": {},
   "outputs": [],
   "source": [
    "a=np.identity(2**4)"
   ]
  },
  {
   "cell_type": "code",
   "execution_count": 85,
   "id": "62018bb6",
   "metadata": {},
   "outputs": [
    {
     "name": "stdout",
     "output_type": "stream",
     "text": [
      "4.938532541079281 4.0\n"
     ]
    },
    {
     "data": {
      "text/plain": [
       "23.463313526982034"
      ]
     },
     "execution_count": 85,
     "metadata": {},
     "output_type": "execute_result"
    }
   ],
   "source": [
    "relative_error([1,2,5,7])"
   ]
  },
  {
   "cell_type": "code",
   "execution_count": 86,
   "id": "b6e28348",
   "metadata": {},
   "outputs": [],
   "source": [
    "a=max(probs)"
   ]
  },
  {
   "cell_type": "code",
   "execution_count": 57,
   "id": "10110971",
   "metadata": {},
   "outputs": [
    {
     "ename": "AttributeError",
     "evalue": "'tensor' object has no attribute 'index'",
     "output_type": "error",
     "traceback": [
      "\u001b[0;31m---------------------------------------------------------------------------\u001b[0m",
      "\u001b[0;31mAttributeError\u001b[0m                            Traceback (most recent call last)",
      "\u001b[0;32m<ipython-input-57-f3c962c1d7e7>\u001b[0m in \u001b[0;36m<module>\u001b[0;34m\u001b[0m\n\u001b[0;32m----> 1\u001b[0;31m \u001b[0mprobs\u001b[0m\u001b[0;34m.\u001b[0m\u001b[0mindex\u001b[0m\u001b[0;34m(\u001b[0m\u001b[0ma\u001b[0m\u001b[0;34m)\u001b[0m\u001b[0;34m\u001b[0m\u001b[0;34m\u001b[0m\u001b[0m\n\u001b[0m",
      "\u001b[0;31mAttributeError\u001b[0m: 'tensor' object has no attribute 'index'"
     ]
    }
   ],
   "source": [
    "probs.index(a)"
   ]
  },
  {
   "cell_type": "code",
   "execution_count": 61,
   "id": "903d09f7",
   "metadata": {},
   "outputs": [
    {
     "name": "stdout",
     "output_type": "stream",
     "text": [
      "0.007217288017272958\n",
      "0.018326658532154958\n",
      "0.46060591499828846\n",
      "0.0095348723090355\n",
      "0.0032076835632324275\n",
      "0.0018100048525613165\n",
      "0.001300518107179215\n",
      "0.0010901830562482623\n",
      "0.0010310411453247057\n",
      "0.001090183056248257\n",
      "0.0013005181071791925\n",
      "0.0018100048525612968\n",
      "0.0032076835632324184\n",
      "0.009534872309035335\n",
      "0.4606059149982885\n",
      "0.018326658532154518\n"
     ]
    }
   ],
   "source": []
  },
  {
   "cell_type": "code",
   "execution_count": null,
   "id": "989e3081",
   "metadata": {},
   "outputs": [],
   "source": []
  }
 ],
 "metadata": {
  "kernelspec": {
   "display_name": "conda_braket",
   "language": "python",
   "name": "conda_braket"
  },
  "language_info": {
   "codemirror_mode": {
    "name": "ipython",
    "version": 3
   },
   "file_extension": ".py",
   "mimetype": "text/x-python",
   "name": "python",
   "nbconvert_exporter": "python",
   "pygments_lexer": "ipython3",
   "version": "3.7.11"
  }
 },
 "nbformat": 4,
 "nbformat_minor": 5
}
